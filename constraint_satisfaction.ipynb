{
 "cells": [
  {
   "cell_type": "code",
   "execution_count": 1,
   "metadata": {},
   "outputs": [],
   "source": [
    "australia = { \"T\":   [\"V\"],\n",
    "              \"WA\":  [\"NT\", \"SA\"],\n",
    "              \"NT\":  [\"WA\", \"Q\", \"SA\"],\n",
    "              \"SA\":  [\"WA\", \"NT\", \"Q\", \"NSW\", \"V\"],\n",
    "              \"Q\":   [\"NT\", \"SA\", \"NSW\"],\n",
    "              \"NSW\": [\"Q\", \"SA\", \"V\"],\n",
    "              \"V\":   [\"SA\", \"NSW\", \"T\"] }\n"
   ]
  },
  {
   "cell_type": "code",
   "execution_count": 2,
   "metadata": {},
   "outputs": [],
   "source": [
    "from copy import deepcopy"
   ]
  },
  {
   "cell_type": "code",
   "execution_count": 33,
   "metadata": {},
   "outputs": [],
   "source": [
    "def initial_state(problem_buckets, colors):\n",
    "    state = {}\n",
    "    for val in problem_buckets.keys():\n",
    "        state[deepcopy(val)] = deepcopy(colors)\n",
    "    return state\n",
    "\n",
    "assert initial_state(australia, [\"R\", \"G\", \"B\"]) == {'NSW': ['R', 'G', 'B'],\n",
    " 'NT': ['R', 'G', 'B'],\n",
    " 'Q': ['R', 'G', 'B'],\n",
    " 'SA': ['R', 'G', 'B'],\n",
    " 'T': ['R', 'G', 'B'],\n",
    " 'V': ['R', 'G', 'B'],\n",
    " 'WA': ['R', 'G', 'B']}"
   ]
  },
  {
   "cell_type": "code",
   "execution_count": 37,
   "metadata": {},
   "outputs": [],
   "source": [
    "from operator import itemgetter\n",
    "number_of_constrains = None\n",
    "def get_unassingen_with_most_constrains(state, constrainst):\n",
    "    global number_of_constrains\n",
    "    if number_of_constrains is None:\n",
    "        number_of_constrains = {key: len(value) for (key, value) in constrainst.items()}\n",
    "    \n",
    "    unsolved = list({key: value for (key, value) in state.items() if len(value)>1}.keys())\n",
    "    unsolved_with_number_of_contrains = [[key, number_of_constrains[key]] for key in unsolved]\n",
    "    most_constraint = max(unsolved_with_number_of_contrains, key=itemgetter(1))[0]\n",
    "    return most_constraint\n",
    "    \n",
    "    \n",
    "assert get_unassingen_with_most_constrains(initial_state(australia, [\"R\", \"G\", \"B\"]), australia) == \"SA\"\n",
    "assert get_unassingen_with_most_constrains({'NSW': ['R', 'G', 'B'],\n",
    " 'NT': ['R', 'G', 'B'],\n",
    " 'Q': ['R', 'G', 'B'],\n",
    " 'SA': ['R'],\n",
    " 'T': ['R', 'G', 'B'],\n",
    " 'V': ['R', 'G', 'B'],\n",
    " 'WA': ['R', 'G', 'B']},  australia) == \"NSW\"\n"
   ]
  },
  {
   "cell_type": "code",
   "execution_count": 38,
   "metadata": {},
   "outputs": [],
   "source": [
    "def is_complete(state):\n",
    "    for (key, value) in state.items():\n",
    "        if len(value) != 1:\n",
    "            return False\n",
    "    return True\n",
    "\n",
    "assert is_complete({'NSW': ['R'],\n",
    " 'NT': ['R'],\n",
    " 'Q': ['B'],\n",
    " 'SA': ['R'],\n",
    " 'T': ['R'],\n",
    " 'V': ['B'],\n",
    " 'WA': ['R']}) == True\n",
    "\n",
    "assert is_complete({'NSW': ['R', 'G', 'B'],\n",
    " 'NT': ['R', 'G', 'B'],\n",
    " 'Q': ['R', 'G', 'B'],\n",
    " 'SA': ['R'],\n",
    " 'T': ['R', 'G', 'B'],\n",
    " 'V': ['R', 'G', 'B'],\n",
    " 'WA': ['R', 'G', 'B']}) == False\n",
    "\n",
    "def is_one_missing(state):\n",
    "    for (key, value) in state.items():\n",
    "        if len(value) == 0:\n",
    "            return True\n",
    "    return False\n",
    "\n",
    "assert is_one_missing({'NSW': ['R'],\n",
    " 'NT': ['R'],\n",
    " 'Q': ['B'],\n",
    " 'SA': ['R'],\n",
    " 'T': ['R'],\n",
    " 'V': ['B'],\n",
    " 'WA': ['R']}) == False\n",
    "\n",
    "assert is_one_missing({'NSW': ['R'],\n",
    " 'NT': [],\n",
    " 'Q': ['B'],\n",
    " 'SA': ['R'],\n",
    " 'T': ['R'],\n",
    " 'V': ['B'],\n",
    " 'WA': ['R']}) == True\n"
   ]
  },
  {
   "cell_type": "code",
   "execution_count": 39,
   "metadata": {},
   "outputs": [],
   "source": [
    "def is_mapcolor_consistent(state, mapcolor_constraints):\n",
    "    for (a, value) in mapcolor_constraints.items():\n",
    "        for b in value:\n",
    "            a_val = state[a]\n",
    "            b_val = state[b]\n",
    "            if len(a_val) == 1 and len(b_val) == 1:\n",
    "                if a_val[0] == b_val[0]:\n",
    "                    return False\n",
    "            \n",
    "        \n",
    "    return True\n",
    "        \n",
    "\n",
    "assert is_mapcolor_consistent({'NSW': ['R', 'G', 'B'], \\\n",
    " 'NT': ['R', 'G', 'B'], \\\n",
    " 'Q': ['R', 'G', 'B'], \\\n",
    " 'SA': ['R'], \\\n",
    " 'T': ['R', 'G', 'B'], \\\n",
    " 'V': ['R', 'G', 'B'], \\\n",
    " 'WA': ['R', 'G', 'B']}, australia) == True\n",
    "\n",
    "assert is_mapcolor_consistent({'NSW': ['R', 'G', 'B'], \\\n",
    " 'NT': ['R', 'G', 'B'], \\\n",
    " 'Q': ['R'], \\\n",
    " 'SA': ['R'], \\\n",
    " 'T': ['R', 'G', 'B'], \\\n",
    " 'V': ['R', 'G', 'B'], \\\n",
    " 'WA': ['R', 'G', 'B']}, australia) == False"
   ]
  },
  {
   "cell_type": "code",
   "execution_count": 7,
   "metadata": {
    "scrolled": false
   },
   "outputs": [
    {
     "name": "stdout",
     "output_type": "stream",
     "text": [
      "value loop {'NSW': ['R', 'G', 'B'], 'WA': ['R', 'G', 'B'], 'Q': ['R', 'G', 'B'], 'T': ['R', 'G', 'B'], 'V': ['R', 'G', 'B'], 'SA': ['R'], 'NT': ['R', 'G', 'B']}\n",
      "value loop {'NSW': ['R'], 'WA': ['R', 'G', 'B'], 'Q': ['R', 'G', 'B'], 'T': ['R', 'G', 'B'], 'V': ['R', 'G', 'B'], 'SA': ['R'], 'NT': ['R', 'G', 'B']}\n",
      "value loop {'NSW': ['G'], 'WA': ['R', 'G', 'B'], 'Q': ['R', 'G', 'B'], 'T': ['R', 'G', 'B'], 'V': ['R', 'G', 'B'], 'SA': ['R'], 'NT': ['R', 'G', 'B']}\n",
      "value loop {'NSW': ['G'], 'WA': ['R', 'G', 'B'], 'Q': ['R', 'G', 'B'], 'T': ['R', 'G', 'B'], 'V': ['R'], 'SA': ['R'], 'NT': ['R', 'G', 'B']}\n",
      "value loop {'NSW': ['G'], 'WA': ['R', 'G', 'B'], 'Q': ['R', 'G', 'B'], 'T': ['R', 'G', 'B'], 'V': ['G'], 'SA': ['R'], 'NT': ['R', 'G', 'B']}\n",
      "value loop {'NSW': ['G'], 'WA': ['R', 'G', 'B'], 'Q': ['R', 'G', 'B'], 'T': ['R', 'G', 'B'], 'V': ['B'], 'SA': ['R'], 'NT': ['R', 'G', 'B']}\n",
      "value loop {'NSW': ['G'], 'WA': ['R', 'G', 'B'], 'Q': ['R'], 'T': ['R', 'G', 'B'], 'V': ['B'], 'SA': ['R'], 'NT': ['R', 'G', 'B']}\n",
      "value loop {'NSW': ['G'], 'WA': ['R', 'G', 'B'], 'Q': ['G'], 'T': ['R', 'G', 'B'], 'V': ['B'], 'SA': ['R'], 'NT': ['R', 'G', 'B']}\n",
      "value loop {'NSW': ['G'], 'WA': ['R', 'G', 'B'], 'Q': ['B'], 'T': ['R', 'G', 'B'], 'V': ['B'], 'SA': ['R'], 'NT': ['R', 'G', 'B']}\n",
      "value loop {'NSW': ['G'], 'WA': ['R', 'G', 'B'], 'Q': ['B'], 'T': ['R', 'G', 'B'], 'V': ['B'], 'SA': ['R'], 'NT': ['R']}\n",
      "value loop {'NSW': ['G'], 'WA': ['R', 'G', 'B'], 'Q': ['B'], 'T': ['R', 'G', 'B'], 'V': ['B'], 'SA': ['R'], 'NT': ['G']}\n",
      "value loop {'NSW': ['G'], 'WA': ['R'], 'Q': ['B'], 'T': ['R', 'G', 'B'], 'V': ['B'], 'SA': ['R'], 'NT': ['G']}\n",
      "value loop {'NSW': ['G'], 'WA': ['G'], 'Q': ['B'], 'T': ['R', 'G', 'B'], 'V': ['B'], 'SA': ['R'], 'NT': ['G']}\n",
      "value loop {'NSW': ['G'], 'WA': ['B'], 'Q': ['B'], 'T': ['R', 'G', 'B'], 'V': ['B'], 'SA': ['R'], 'NT': ['G']}\n",
      "value loop {'NSW': ['G'], 'WA': ['B'], 'Q': ['B'], 'T': ['R'], 'V': ['B'], 'SA': ['R'], 'NT': ['G']}\n"
     ]
    },
    {
     "data": {
      "text/plain": [
       "{'NSW': ['G'],\n",
       " 'NT': ['G'],\n",
       " 'Q': ['B'],\n",
       " 'SA': ['R'],\n",
       " 'T': ['R'],\n",
       " 'V': ['B'],\n",
       " 'WA': ['B']}"
      ]
     },
     "execution_count": 7,
     "metadata": {},
     "output_type": "execute_result"
    }
   ],
   "source": [
    "def backtracking(state, constraint):\n",
    "    if is_complete(state):\n",
    "        return state\n",
    "    \n",
    "    var = get_unassingen_with_most_constrains(state, constraint)\n",
    "    assignemts_for_var = deepcopy(state[var])\n",
    "    for value in state[var]:\n",
    "        state[var] = [value]\n",
    "        print(\"value loop\", state)\n",
    "        if is_mapcolor_consistent(state, constraint):\n",
    "            result = backtracking(state, constraint)\n",
    "            if result != False:\n",
    "                return result\n",
    "        state[var] = assignemts_for_var\n",
    "        \n",
    "    return False\n",
    "\n",
    "backtracking(initial_state(australia, [\"R\", \"G\", \"B\"]), australia)"
   ]
  },
  {
   "cell_type": "code",
   "execution_count": 8,
   "metadata": {},
   "outputs": [
    {
     "name": "stdout",
     "output_type": "stream",
     "text": [
      "{'NSW': ['G'], 'WA': ['B'], 'Q': ['B'], 'T': ['R', 'G'], 'V': ['B'], 'SA': ['R'], 'NT': ['G']}\n"
     ]
    },
    {
     "data": {
      "text/plain": [
       "{'NSW': ['G', 'B'],\n",
       " 'NT': ['G', 'B'],\n",
       " 'Q': ['G', 'B'],\n",
       " 'SA': ['R'],\n",
       " 'T': ['R', 'G', 'B'],\n",
       " 'V': ['G', 'B'],\n",
       " 'WA': ['G', 'B']}"
      ]
     },
     "execution_count": 8,
     "metadata": {},
     "output_type": "execute_result"
    }
   ],
   "source": [
    "def forward_checking(current_state, mapcolor_constraints):\n",
    "    removed = True\n",
    "    while removed:\n",
    "        removed = False\n",
    "        for (a, a_peers) in mapcolor_constraints.items():\n",
    "            for b in a_peers:\n",
    "                a = str(a)\n",
    "                b = str(b)\n",
    "                if len(current_state[a]) == 1 and current_state[a][0] in current_state[b]:\n",
    "                    current_state[b].remove(current_state[a][0])\n",
    "                    removed = True\n",
    "                elif len(current_state[b]) == 1 and current_state[b][0] in current_state[a]:\n",
    "                    current_state[a].remove(current_state[b][0])\n",
    "                    removed = True\n",
    "    return current_state\n",
    "        \n",
    "\n",
    "print(forward_checking({'NSW': ['R', 'G', 'B'], \\\n",
    " 'NT': ['R', 'G', 'B'], \\\n",
    " 'Q': ['B'], \\\n",
    " 'SA': ['R'], \\\n",
    " 'T': ['R', 'G', 'B'], \\\n",
    " 'V': ['R', 'G', 'B'], \\\n",
    " 'WA': ['R', 'G', 'B']}, australia))\n",
    "\n",
    "forward_checking({'SA': ['R'], 'T': ['R', 'G', 'B'], 'NT': ['R', 'G', 'B'], 'Q': ['R', 'G', 'B'], 'NSW': ['R', 'G', 'B'], 'WA': ['R', 'G', 'B'], 'V': ['R', 'G', 'B']}, australia)"
   ]
  },
  {
   "cell_type": "code",
   "execution_count": 30,
   "metadata": {
    "scrolled": false
   },
   "outputs": [
    {
     "name": "stdout",
     "output_type": "stream",
     "text": [
      "value loop 0, SA is R\n",
      "value after forward checking {'NSW': [], 'WA': ['G'], 'Q': ['G'], 'T': ['G'], 'V': ['R'], 'SA': [], 'NT': ['R']}\n",
      "value loop 0, SA is G\n",
      "value after forward checking {'NSW': [], 'WA': ['R'], 'Q': ['R'], 'T': ['R'], 'V': ['G'], 'SA': [], 'NT': ['G']}\n",
      "False \n",
      "\n",
      "value loop 0, SA is R\n",
      "value after forward checking {'NSW': ['G', 'B'], 'WA': ['G', 'B'], 'Q': ['G', 'B'], 'T': ['R', 'G', 'B'], 'V': ['G', 'B'], 'SA': ['R'], 'NT': ['G', 'B']}\n",
      "value loop 1, NSW is G\n",
      "value after forward checking {'NSW': ['G'], 'WA': ['B'], 'Q': ['B'], 'T': ['R', 'G'], 'V': ['B'], 'SA': ['R'], 'NT': ['G']}\n",
      "value loop 2, T is R\n",
      "value after forward checking {'NSW': ['G'], 'WA': ['B'], 'Q': ['B'], 'T': ['R'], 'V': ['B'], 'SA': ['R'], 'NT': ['G']}\n",
      "{'NSW': ['G'], 'WA': ['B'], 'Q': ['B'], 'T': ['R'], 'V': ['B'], 'SA': ['R'], 'NT': ['G']}\n"
     ]
    }
   ],
   "source": [
    "def backtracking_with_forwardchecking(state, constraint, d=0):\n",
    "    if is_complete(state):\n",
    "        return state\n",
    "    \n",
    "    \n",
    "    var = get_unassingen_with_most_constrains(state, constraint)\n",
    "    for value in state[var]:\n",
    "        print(\"value loop {}, {} is {}\".format(d, var, value))\n",
    "        new_state = deepcopy(state)\n",
    "        new_state[deepcopy(var)] = [deepcopy(value)]\n",
    "        \n",
    "        new_state = forward_checking(deepcopy(new_state), deepcopy(constraint))\n",
    "        print(\"value after forward checking\", new_state)\n",
    "        \n",
    "        if is_one_missing(new_state):\n",
    "            continue\n",
    "        \n",
    "        if is_mapcolor_consistent(new_state, constraint):\n",
    "            result = backtracking_with_forwardchecking(new_state, constraint, d+1)\n",
    "            if result != False:\n",
    "                return result\n",
    "        \n",
    "    return False\n",
    "\n",
    "print(backtracking_with_forwardchecking(initial_state(australia, [\"R\", \"G\"]), australia), \"\\n\")\n",
    "\n",
    "print(backtracking_with_forwardchecking(initial_state(australia, [\"R\", \"G\", \"B\"]), australia))"
   ]
  }
 ],
 "metadata": {
  "kernelspec": {
   "display_name": "Python [default]",
   "language": "python",
   "name": "python3"
  },
  "language_info": {
   "codemirror_mode": {
    "name": "ipython",
    "version": 3
   },
   "file_extension": ".py",
   "mimetype": "text/x-python",
   "name": "python",
   "nbconvert_exporter": "python",
   "pygments_lexer": "ipython3",
   "version": "3.5.4"
  }
 },
 "nbformat": 4,
 "nbformat_minor": 2
}
