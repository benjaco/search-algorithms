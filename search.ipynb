{
 "cells": [
  {
   "cell_type": "code",
   "execution_count": null,
   "metadata": {},
   "outputs": [],
   "source": [
    "%matplotlib inline"
   ]
  },
  {
   "cell_type": "markdown",
   "metadata": {},
   "source": [
    "# Search algoritms"
   ]
  },
  {
   "cell_type": "markdown",
   "metadata": {},
   "source": [
    "## Define and visualize our map"
   ]
  },
  {
   "cell_type": "code",
   "execution_count": null,
   "metadata": {},
   "outputs": [],
   "source": [
    "cities = [\n",
    "    [\"Arad\", 394, 580],\n",
    "    [\"Bucharest\", 1780, 1332],\n",
    "    [\"Craiova\", 1126, 1509],\n",
    "    [\"Dobreta\", 726, 1452],\n",
    "    [\"Eforie\", 2496, 1495],\n",
    "    [\"Fagaras\", 1380, 796],\n",
    "    [\"Giurgiu\", 1654, 1579],\n",
    "    [\"Hirsowa\", 2368, 1239],\n",
    "    [\"Lasi\", 2125, 540],\n",
    "    [\"Lugoj\", 724, 1104],\n",
    "    [\"Mehadia\", 742, 1275],\n",
    "    [\"Neamt\", 1842, 391],\n",
    "    [\"Oradea\", 589, 207],\n",
    "    [\"Pitesti\", 1432, 1168],\n",
    "    [\"Rimnicu Vilcea\", 1035,963],\n",
    "    [\"Sibiu\", 924, 748],\n",
    "    [\"Timisoara\", 411, 951],\n",
    "    [\"Urziceni\", 2047, 1249],\n",
    "    [\"Vaslui\", 2278, 826],\n",
    "    [\"Zerind\", 471, 402]\n",
    "];\n",
    "\n",
    "connections = [\n",
    "    [\"Arad\", \"Zerind\"],\n",
    "    [\"Arad\", \"Sibiu\"],\n",
    "    [\"Arad\", \"Timisoara\"],\n",
    "    [\"Zerind\", \"Oradea\"],\n",
    "    [\"Oradea\", \"Sibiu\"],\n",
    "    [\"Timisoara\", \"Lugoj\"],\n",
    "    [\"Sibiu\", \"Fagaras\"],\n",
    "    [\"Sibiu\", \"Rimnicu Vilcea\"],\n",
    "    [\"Lugoj\", \"Mehadia\"],\n",
    "    [\"Fagaras\", \"Bucharest\"],\n",
    "    [\"Rimnicu Vilcea\", \"Pitesti\"],\n",
    "    [\"Rimnicu Vilcea\", \"Craiova\"],\n",
    "    [\"Mehadia\", \"Dobreta\"],\n",
    "    [\"Bucharest\", \"Pitesti\"],\n",
    "    [\"Bucharest\", \"Urziceni\"],\n",
    "    [\"Bucharest\", \"Giurgiu\"],\n",
    "    [\"Pitesti\", \"Craiova\"],\n",
    "    [\"Craiova\",  \"Dobreta\"],\n",
    "    [\"Urziceni\", \"Hirsowa\"],\n",
    "    [\"Urziceni\", \"Vaslui\"],\n",
    "    [\"Hirsowa\", \"Eforie\"],\n",
    "    [\"Vaslui\", \"Lasi\"],\n",
    "    [\"Lasi\", \"Neamt\"]\n",
    "];"
   ]
  },
  {
   "cell_type": "code",
   "execution_count": null,
   "metadata": {},
   "outputs": [],
   "source": [
    "def getCityLocation(cityName):\n",
    "    # Get city info form by city name\n",
    "    # Param:\n",
    "    # cityName: name of the city in string form\n",
    "    # Return:\n",
    "    # A list with the city info, x location and y location for the given city\n",
    "    # TODO\n",
    "\n",
    "assert getCityLocation(\"Arad\") == ['Arad', 394, 580]"
   ]
  },
  {
   "cell_type": "code",
   "execution_count": null,
   "metadata": {},
   "outputs": [],
   "source": [
    "import matplotlib.pyplot as plt\n",
    "import matplotlib.lines as mlines\n",
    "import math\n",
    "from copy import deepcopy\n",
    "\n",
    "def visualizeMap(highlighted_citys = [], paths = [], size = 1):\n",
    "    axes = plt.gca()\n",
    "    xlim, ylim = max(cities, key=lambda x: x[1])[1]+400, max(cities, key=lambda x: x[2])[2]+400\n",
    "    axes.set_xlim([0,xlim])\n",
    "    axes.set_ylim([0,ylim])\n",
    "\n",
    "    for con in connections:\n",
    "        a = getCityLocation(con[0])\n",
    "        b = getCityLocation(con[1])\n",
    "        plt.plot([a[1], b[1]], [ylim-a[2], ylim-b[2]], 'k-', lw=2)\n",
    "\n",
    "    for city in cities:\n",
    "        plt.text(city[1], ylim-city[2], city[0], fontsize=10)\n",
    "\n",
    "    for highlighted_city in highlighted_citys:\n",
    "        location = getCityLocation(highlighted_city)\n",
    "        plt.scatter(location[1], ylim-location[2], c=\"blue\", s=50)\n",
    "    \n",
    "    city_offsets = {}\n",
    "    for path in paths:\n",
    "        score = path.combined_cost\n",
    "        path = path.path + [path.location]\n",
    "        if len(path) > 1:\n",
    "            current = deepcopy(getCityLocation(path[0]))\n",
    "            if current[0] not in city_offsets:\n",
    "                city_offsets[current[0]] = 10\n",
    "            city_offsets[current[0]] += 10\n",
    "            current[2] += city_offsets[current[0]]\n",
    "            \n",
    "            for to in path[1:]:\n",
    "                to = deepcopy(getCityLocation(to))\n",
    "                \n",
    "                if to[0] not in city_offsets:\n",
    "                    city_offsets[to[0]] = 10\n",
    "                city_offsets[to[0]] += 10\n",
    "                to[2] += city_offsets[to[0]]\n",
    "                \n",
    "                plt.plot([current[1], to[1]], [ylim-current[2], ylim-to[2]], 'k-', lw=1, alpha=0.4)\n",
    "                \n",
    "                current = to\n",
    "            plt.scatter(current[1], ylim-current[2]+city_offsets[current[0]], c=\"red\", s=50)\n",
    "            plt.text(current[1], ylim-current[2]-40, str(int(score)), fontsize=10)\n",
    "    plt.text(10, 10, \"Red dot = frontier, blue dot = explored\")\n",
    "            \n",
    "\n",
    "    plt.rcParams[\"figure.figsize\"] = [16,9]\n",
    "\n",
    "    plt.show()\n",
    "\n",
    "visualizeMap()\n"
   ]
  },
  {
   "cell_type": "markdown",
   "metadata": {},
   "source": [
    "## Define helperfunction for the map problem"
   ]
  },
  {
   "cell_type": "code",
   "execution_count": null,
   "metadata": {},
   "outputs": [],
   "source": [
    "import numpy as np\n",
    "import math\n",
    "import random\n",
    "from copy import deepcopy\n",
    "from operator import attrgetter\n",
    "from collections import deque"
   ]
  },
  {
   "cell_type": "code",
   "execution_count": null,
   "metadata": {},
   "outputs": [],
   "source": [
    "def connections_from(cityName):\n",
    "    # Get the citys a given town is connected to\n",
    "    # Param:\n",
    "    # cityName: name of the city in string form\n",
    "    # Return:\n",
    "    # A list of citynames the city is connected to\n",
    "    # TODO\n",
    "    \n",
    "assert connections_from(\"Arad\") == ['Sibiu', 'Timisoara', 'Zerind']\n",
    "assert connections_from(\"Sibiu\") == ['Arad', 'Fagaras', 'Oradea', 'Rimnicu Vilcea']"
   ]
  },
  {
   "cell_type": "code",
   "execution_count": null,
   "metadata": {},
   "outputs": [],
   "source": [
    "def length_between(a, b):\n",
    "    # Get the euclidean distance between 2 citys using their names\n",
    "    # Param:\n",
    "    # a: name of the start city in string form\n",
    "    # b: name of the end city in string form\n",
    "    # Return:\n",
    "    # the distance between the two citys\n",
    "    # TODO\n",
    "\n",
    "assert (math.floor(length_between(\"Arad\", \"Sibiu\")*10)/10) == 555.9"
   ]
  },
  {
   "cell_type": "markdown",
   "metadata": {},
   "source": [
    "## Helper function for a search algoritm"
   ]
  },
  {
   "cell_type": "code",
   "execution_count": null,
   "metadata": {},
   "outputs": [],
   "source": [
    "class path:\n",
    "    def __init__(self, location, path=[]):\n",
    "        self.location = location\n",
    "        self.cost = 0\n",
    "        self.cost_to_goal = 0\n",
    "        self.path = path\n",
    "    \n",
    "    def go(self, location, cost = 0):\n",
    "        # returns a copy of the object with the new location, new cost and new path\n",
    "        # TODO\n",
    "    \n",
    "    @property\n",
    "    def combined_cost(self):\n",
    "        return self.cost + self.cost_to_goal\n",
    "    \n",
    "    def __str__(self):\n",
    "        if self.combined_cost == self.cost:\n",
    "            return \"->\".join(self.path+[self.location]) + \" cost: \"+str(int(self.combined_cost)) \n",
    "        return \"->\".join(self.path+[self.location]) + \" cost: \"+str(int(self.combined_cost)) + \" (\"+str(int(self.cost))+\")\"\n",
    "\n",
    "a = path(\"a\")\n",
    "a_b = a.go(\"b\", 10)\n",
    "\n",
    "assert str(a) == \"a cost: 0\"\n",
    "assert a.cost == 0\n",
    "assert a.path == []\n",
    "assert a.location == \"a\"\n",
    "\n",
    "\n",
    "assert str(a_b) == \"a->b cost: 10\"\n",
    "assert a_b.cost == 10\n",
    "assert a_b.path == [\"a\"]\n",
    "assert a_b.location == \"b\"\n",
    "a_b.cost_to_goal = 100\n",
    "assert str(a_b) == \"a->b cost: 110 (10)\"\n",
    "assert a_b.combined_cost == 110\n",
    "\n",
    "def min_objects(objects, key):\n",
    "    # Returns a list of objects with the minimum value from a given property \n",
    "    # Param:\n",
    "    # objects: list of objects of any kind\n",
    "    # key: the key in the object with the value to look for \n",
    "    # Return:\n",
    "    # a list of objects with the minimum value from a given property \n",
    "    # TODO\n",
    "    \n",
    "\n",
    "assert \", \".join([str(o) for o in min_objects([a,a,a_b], \"cost\")]) == \"a cost: 0, a cost: 0\"\n",
    "\n",
    "def in_objects(objects, key, value):\n",
    "    # Checks if a object in a list with a given property has a certain value \n",
    "    # Param:\n",
    "    # objects: list of objects of any kind\n",
    "    # key: the key in the object with the value to look for \n",
    "    # value: the value for look for\n",
    "    # Return:\n",
    "    # the object if found, False otherwise\n",
    "    # TODO\n",
    "    \n",
    "    \n",
    "assert in_objects([path(\"a\")],\"location\",\"b\") == False\n",
    "assert str(in_objects([path(\"a\")],\"location\",\"a\")) == \"a cost: 0\""
   ]
  },
  {
   "cell_type": "markdown",
   "metadata": {},
   "source": [
    "## Algoritms\n",
    "#### Breadth first search"
   ]
  },
  {
   "cell_type": "code",
   "execution_count": null,
   "metadata": {
    "scrolled": false
   },
   "outputs": [],
   "source": [
    "def breadth_first_search(start, goal):\n",
    "    # Implement the Breadth First Search algoritm, https://github.com/aimacode/aima-pseudocode/blob/master/md/Breadth-First-Search.md\n",
    "    # Params:\n",
    "    # start: The name of the city where the path should start in string form\n",
    "    # goal: The name of the cuty for the goal, in string form\n",
    "    # Return:\n",
    "    # The path object for the found route\n",
    "    global path\n",
    "    # Call visualizeMap(explored, frontier, 3) for visualize the state \n",
    "    # Todo\n",
    "    \n",
    "print(breadth_first_search(\"Arad\", \"Bucharest\"))\n",
    "    "
   ]
  },
  {
   "cell_type": "markdown",
   "metadata": {},
   "source": [
    "#### Uniform cost search"
   ]
  },
  {
   "cell_type": "code",
   "execution_count": null,
   "metadata": {
    "scrolled": false
   },
   "outputs": [],
   "source": [
    "def uniform_cost_search(start, goal):\n",
    "    # Implement the Uniform Cost Search algoritm, https://github.com/aimacode/aima-pseudocode/blob/master/md/Uniform-Cost-Search.md\n",
    "    # Params:\n",
    "    # start: The name of the city where the path should start in string form\n",
    "    # goal: The name of the cuty for the goal, in string form\n",
    "    # Return:\n",
    "    # The path object for the found route\n",
    "    global path\n",
    "    # Call visualizeMap(explored, frontier, 3) for visualize the state\n",
    "    # Todo\n",
    "    \n",
    "\n",
    "                \n",
    "print(uniform_cost_search(\"Arad\", \"Bucharest\"))"
   ]
  },
  {
   "cell_type": "markdown",
   "metadata": {},
   "source": [
    "#### A*"
   ]
  },
  {
   "cell_type": "code",
   "execution_count": null,
   "metadata": {
    "scrolled": false
   },
   "outputs": [],
   "source": [
    "def a_star(start, goal):\n",
    "    # Implement the A* algoritm, https://en.wikipedia.org/wiki/A*_search_algorithm\n",
    "    # Params:\n",
    "    # start: The name of the city where the path should start in string form\n",
    "    # goal: The name of the cuty for the goal, in string form\n",
    "    # Return:\n",
    "    # The path object for the found route\n",
    "    global path\n",
    "    # Call visualizeMap(explored, frontier, 3) for visualize the state\n",
    "    # Todo\n",
    "    \n",
    "        \n",
    "print(a_star(\"Arad\", \"Bucharest\"))"
   ]
  }
 ],
 "metadata": {
  "kernelspec": {
   "display_name": "Python [default]",
   "language": "python",
   "name": "python3"
  },
  "language_info": {
   "codemirror_mode": {
    "name": "ipython",
    "version": 3
   },
   "file_extension": ".py",
   "mimetype": "text/x-python",
   "name": "python",
   "nbconvert_exporter": "python",
   "pygments_lexer": "ipython3",
   "version": "3.5.4"
  }
 },
 "nbformat": 4,
 "nbformat_minor": 2
}
